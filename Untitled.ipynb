{
 "cells": [
  {
   "cell_type": "code",
   "execution_count": null,
   "id": "412a2849-cae7-4015-af34-1463eaf3518e",
   "metadata": {},
   "outputs": [],
   "source": [
    "## FUNCTIONS TO OVERLAYS ALL PICS!!\n",
    "get_ipython().magic('matplotlib inline')\n",
    "import cv2\n",
    "from matplotlib import pyplot as plt\n",
    "import numpy as np\n",
    "import time as t\n",
    "import glob, os\n",
    "import operator\n",
    "from PIL import Image\n",
    "import pathlib\n",
    "from pathlib import Path\n",
    "\n",
    "\n",
    "image_dir = [\"data/pics_for_overlaps/Sarah\",\n",
    "             \"data/pics_for_overlaps/Allison\",\n",
    "             \"data/pics_for_overlaps/Amanda_S\",\n",
    "             \"data/pics_for_overlaps/Gisele\",\n",
    "             \"data/pics_for_overlaps/Keira\",\n",
    "             \"data/pics_for_overlaps/Squares\"\n",
    "            ]\n",
    "\n",
    "plt.figure(figsize=(20,10))\n",
    "from PIL import Image, ImageDraw,ImageFont\n",
    "font = ImageFont.truetype(\"fonts/Arial.ttf\", 20)\n",
    "n_row = 2\n",
    "n_col = 3\n",
    "g = 0\n",
    "text = [\"Sarah-round\",\"Allison-oval\",\"Amanda-heart\",'Gisele-long','Keira-square','All Squares']\n",
    "for ddir in image_dir:\n",
    "    a =  .6\n",
    "    i = 0\n",
    "    g += 1\n",
    "    for f in os.listdir(ddir):\n",
    "        if f.endswith('.jpg'):\n",
    "            file, ext = os.path.splitext(f)\n",
    "\n",
    "            im = Image.open(ddir+'/'+f)\n",
    "            image = cv2.imread(ddir+'/'+f)\n",
    "            a = a-.01\n",
    "            i += 1\n",
    "            draw = ImageDraw.Draw(im)\n",
    "            draw.text((10,10) ,text[g-1], fill=None, font=font, anchor=None)\n",
    "            draw.text((10,30) ,str(i)+\" Pics\", fill=None, font=font, anchor=None)\n",
    "            plt.subplot(n_row, n_col, g )\n",
    "            plt.imshow(im, alpha = a)"
   ]
  }
 ],
 "metadata": {
  "kernelspec": {
   "display_name": "Python 3 (ipykernel)",
   "language": "python",
   "name": "python3"
  },
  "language_info": {
   "codemirror_mode": {
    "name": "ipython",
    "version": 3
   },
   "file_extension": ".py",
   "mimetype": "text/x-python",
   "name": "python",
   "nbconvert_exporter": "python",
   "pygments_lexer": "ipython3",
   "version": "3.8.10"
  }
 },
 "nbformat": 4,
 "nbformat_minor": 5
}
