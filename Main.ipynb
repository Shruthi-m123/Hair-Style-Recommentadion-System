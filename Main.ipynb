{
 "cells": [
  {
   "cell_type": "code",
   "execution_count": 1,
   "id": "4ef68f5f-de14-4b07-8bc5-b5ce09f94c2c",
   "metadata": {},
   "outputs": [],
   "source": [
    "#%run User_Input.py"
   ]
  },
  {
   "cell_type": "code",
   "execution_count": 2,
   "id": "6c915f04-04f5-4c32-9248-339daae3616b",
   "metadata": {},
   "outputs": [
    {
     "name": "stdout",
     "output_type": "stream",
     "text": [
      "Selected file path: C:/Users/sanka/OneDrive/Desktop/User_images/sravani.jpg\n",
      "Final selected file path: C:/Users/sanka/OneDrive/Desktop/User_images/sravani.jpg\n"
     ]
    }
   ],
   "source": [
    "import User_Input as img_path"
   ]
  },
  {
   "cell_type": "code",
   "execution_count": 3,
   "id": "cfc6c5be-c18c-463a-b954-fef4f68d35de",
   "metadata": {},
   "outputs": [],
   "source": [
    "import User_Point as img_points"
   ]
  },
  {
   "cell_type": "code",
   "execution_count": 4,
   "id": "5e5b37d7-d4b2-41a7-8017-95e091fbd979",
   "metadata": {},
   "outputs": [
    {
     "name": "stdout",
     "output_type": "stream",
     "text": [
      "[119.10499569707393, 151.21177202850313, 120.20399327809372, 71.06335201775947, 103.57605900979242, 0.7876701271288776, 0.9908572290233549, 1.676039650751464, 1.14992785819176, 1.2579596393164116, 2.127844630671429, 1.4599104607195672, 1.6915046907448652, 1.1605383949463577, 0.6860982421723626]\n"
     ]
    }
   ],
   "source": [
    "ans=img_points.user_points(img_path.selected_file_path)\n",
    "print(ans)"
   ]
  },
  {
   "cell_type": "code",
   "execution_count": 5,
   "id": "2914ec93-5876-4045-9006-5255bc251090",
   "metadata": {},
   "outputs": [],
   "source": [
    "import Code1 as pdt"
   ]
  },
  {
   "cell_type": "code",
   "execution_count": 6,
   "id": "5a63de7e-4ec7-4f23-a2e0-359f584dc296",
   "metadata": {},
   "outputs": [
    {
     "name": "stdout",
     "output_type": "stream",
     "text": [
      "Accuracy scores for each fold: [0.4, 0.5, 0.25, 0.25, 0.25, 0.5, 0.5, 0.25, 0.75, 0.75, 0.5, 0.75, 0.25, 0.5, 0.0, 0.5, 1.0, 0.25, 0.25, 0.0]\n",
      "Predictions for the input array in each fold: [3, 3, 3, 3, 3, 3, 3, 3, 3, 3, 3, 3, 3, 3, 3, 3, 3, 3, 3, 3]\n",
      "Maximum accuracy: 1.0\n",
      "oval\n"
     ]
    }
   ],
   "source": [
    "k=pdt.prediction(ans)\n",
    "print(k)"
   ]
  },
  {
   "cell_type": "code",
   "execution_count": 7,
   "id": "80d0739b-985f-44df-a683-e8cc5461b3a7",
   "metadata": {},
   "outputs": [],
   "source": [
    "import variable as v"
   ]
  },
  {
   "cell_type": "code",
   "execution_count": 8,
   "id": "4b24de83-385c-4d14-b2dd-5aa784418fe3",
   "metadata": {},
   "outputs": [
    {
     "name": "stdout",
     "output_type": "stream",
     "text": [
      "shape\n"
     ]
    },
    {
     "ename": "NameError",
     "evalue": "name 'ans' is not defined",
     "output_type": "error",
     "traceback": [
      "\u001b[1;31m---------------------------------------------------------------------------\u001b[0m",
      "\u001b[1;31mNameError\u001b[0m                                 Traceback (most recent call last)",
      "Cell \u001b[1;32mIn[8], line 4\u001b[0m\n\u001b[0;32m      1\u001b[0m \u001b[38;5;66;03m#v.shape1(k)\u001b[39;00m\n\u001b[0;32m      2\u001b[0m \u001b[38;5;66;03m#print(v.classified_shape)\u001b[39;00m\n\u001b[0;32m      3\u001b[0m \u001b[38;5;28mprint\u001b[39m(\u001b[38;5;124m\"\u001b[39m\u001b[38;5;124mshape\u001b[39m\u001b[38;5;124m\"\u001b[39m)\n\u001b[1;32m----> 4\u001b[0m \u001b[38;5;28mprint\u001b[39m(\u001b[43mv\u001b[49m\u001b[38;5;241;43m.\u001b[39;49m\u001b[43mshape\u001b[49m\u001b[43m(\u001b[49m\u001b[43m)\u001b[49m)\n",
      "File \u001b[1;32m~\\MINI_PROJECT\\variable.py:8\u001b[0m, in \u001b[0;36mshape\u001b[1;34m()\u001b[0m\n\u001b[0;32m      7\u001b[0m \u001b[38;5;28;01mdef\u001b[39;00m \u001b[38;5;21mshape\u001b[39m():\n\u001b[1;32m----> 8\u001b[0m     k\u001b[38;5;241m=\u001b[39mpdt\u001b[38;5;241m.\u001b[39mprediction(\u001b[43mans\u001b[49m)\n\u001b[0;32m      9\u001b[0m     \u001b[38;5;28;01mreturn\u001b[39;00m k\n",
      "\u001b[1;31mNameError\u001b[0m: name 'ans' is not defined"
     ]
    }
   ],
   "source": [
    "#v.shape1(k)\n",
    "#print(v.classified_shape)\n",
    "print(\"shape\")\n",
    "print(v.shape())"
   ]
  },
  {
   "cell_type": "code",
   "execution_count": null,
   "id": "06435c8e-a146-43c9-bb96-772367822038",
   "metadata": {},
   "outputs": [],
   "source": [
    "%run app.py"
   ]
  },
  {
   "cell_type": "code",
   "execution_count": 1,
   "id": "0e044b70-c8fe-4aa0-905c-c67ea0e77ae8",
   "metadata": {},
   "outputs": [
    {
     "name": "stdout",
     "output_type": "stream",
     "text": [
      "Selected file path: C:/Users/sanka/OneDrive/Desktop/User_images/sravani.jpg\n",
      "Final selected file path: C:/Users/sanka/OneDrive/Desktop/User_images/sravani.jpg\n",
      "Accuracy scores for each fold: [0.4, 0.5, 0.25, 0.25, 0.25, 0.5, 0.5, 0.25, 0.75, 0.75, 0.5, 0.75, 0.25, 0.5, 0.0, 0.5, 1.0, 0.25, 0.25, 0.0]\n",
      "Predictions for the input array in each fold: [3, 3, 3, 3, 3, 3, 3, 3, 3, 3, 3, 3, 3, 3, 3, 3, 3, 3, 3, 3]\n",
      "Maximum accuracy: 1.0\n"
     ]
    }
   ],
   "source": [
    "%run variable.py"
   ]
  },
  {
   "cell_type": "code",
   "execution_count": 2,
   "id": "26634473-6e98-4078-a55e-723af5d65db7",
   "metadata": {},
   "outputs": [
    {
     "name": "stdout",
     "output_type": "stream",
     "text": [
      "Accuracy scores for each fold: [0.4, 0.5, 0.25, 0.25, 0.25, 0.5, 0.5, 0.25, 0.75, 0.75, 0.5, 0.75, 0.25, 0.5, 0.0, 0.5, 1.0, 0.25, 0.25, 0.0]\n",
      "Predictions for the input array in each fold: [3, 3, 3, 3, 3, 3, 3, 3, 3, 3, 3, 3, 3, 3, 3, 3, 3, 3, 3, 3]\n",
      "Maximum accuracy: 1.0\n"
     ]
    }
   ],
   "source": [
    "import variable as v"
   ]
  },
  {
   "cell_type": "code",
   "execution_count": 3,
   "id": "bff62d67-2f3c-4607-bbd5-9a815eeadf4f",
   "metadata": {},
   "outputs": [
    {
     "name": "stdout",
     "output_type": "stream",
     "text": [
      "shape\n",
      "oval\n"
     ]
    }
   ],
   "source": [
    "print(\"shape\")\n",
    "print(v.shape())"
   ]
  },
  {
   "cell_type": "code",
   "execution_count": 2,
   "id": "cce974af-0426-42be-b19a-aec69fc580da",
   "metadata": {},
   "outputs": [
    {
     "name": "stdout",
     "output_type": "stream",
     "text": [
      "Selected file path: C:/Users/sanka/OneDrive/Desktop/Swetha.jpg\n",
      "Final selected file path: C:/Users/sanka/OneDrive/Desktop/Swetha.jpg\n"
     ]
    },
    {
     "ename": "ModuleNotFoundError",
     "evalue": "No module named 'face_recognition'",
     "output_type": "error",
     "traceback": [
      "\u001b[1;31m---------------------------------------------------------------------------\u001b[0m",
      "\u001b[1;31mModuleNotFoundError\u001b[0m                       Traceback (most recent call last)",
      "File \u001b[1;32m~\\MINI_PROJECT\\app.py:1\u001b[0m\n\u001b[1;32m----> 1\u001b[0m \u001b[38;5;28;01mimport\u001b[39;00m \u001b[38;5;21;01mvariable\u001b[39;00m \u001b[38;5;28;01mas\u001b[39;00m \u001b[38;5;21;01mvar\u001b[39;00m\n\u001b[0;32m      2\u001b[0m \u001b[38;5;28;01mimport\u001b[39;00m \u001b[38;5;21;01mwebbrowser\u001b[39;00m\n\u001b[0;32m      3\u001b[0m \u001b[38;5;28;01mfrom\u001b[39;00m \u001b[38;5;21;01mflask\u001b[39;00m \u001b[38;5;28;01mimport\u001b[39;00m Flask, render_template\n",
      "File \u001b[1;32m~\\MINI_PROJECT\\variable.py:7\u001b[0m\n\u001b[0;32m      1\u001b[0m \u001b[38;5;66;03m#classified_shape=\"\"\u001b[39;00m\n\u001b[0;32m      2\u001b[0m \u001b[38;5;66;03m#def shape1(k):\u001b[39;00m\n\u001b[0;32m      3\u001b[0m \u001b[38;5;66;03m#    this.classified_shape=k;\u001b[39;00m\n\u001b[0;32m      4\u001b[0m \u001b[38;5;66;03m#def shape():\u001b[39;00m\n\u001b[0;32m      5\u001b[0m \u001b[38;5;66;03m#    return classified_shape\u001b[39;00m\n\u001b[0;32m      6\u001b[0m \u001b[38;5;28;01mimport\u001b[39;00m \u001b[38;5;21;01mUser_Input\u001b[39;00m \u001b[38;5;28;01mas\u001b[39;00m \u001b[38;5;21;01mimg_path\u001b[39;00m\n\u001b[1;32m----> 7\u001b[0m \u001b[38;5;28;01mimport\u001b[39;00m \u001b[38;5;21;01mUser_Point\u001b[39;00m \u001b[38;5;28;01mas\u001b[39;00m \u001b[38;5;21;01mimg_points\u001b[39;00m\n\u001b[0;32m      8\u001b[0m ans\u001b[38;5;241m=\u001b[39mimg_points\u001b[38;5;241m.\u001b[39muser_points(img_path\u001b[38;5;241m.\u001b[39mselected_file_path)\n\u001b[0;32m      9\u001b[0m \u001b[38;5;28;01mimport\u001b[39;00m \u001b[38;5;21;01mCode1\u001b[39;00m \u001b[38;5;28;01mas\u001b[39;00m \u001b[38;5;21;01mpdt\u001b[39;00m\n",
      "File \u001b[1;32m~\\MINI_PROJECT\\User_Point.py:3\u001b[0m\n\u001b[0;32m      1\u001b[0m \u001b[38;5;66;03m# User_Points.py\u001b[39;00m\n\u001b[1;32m----> 3\u001b[0m \u001b[38;5;28;01mimport\u001b[39;00m \u001b[38;5;21;01mface_recognition\u001b[39;00m\n\u001b[0;32m      4\u001b[0m \u001b[38;5;28;01mimport\u001b[39;00m \u001b[38;5;21;01mnumpy\u001b[39;00m \u001b[38;5;28;01mas\u001b[39;00m \u001b[38;5;21;01mnp\u001b[39;00m\n\u001b[0;32m      6\u001b[0m \u001b[38;5;28;01mdef\u001b[39;00m \u001b[38;5;21muser_points\u001b[39m(img_path):\n",
      "\u001b[1;31mModuleNotFoundError\u001b[0m: No module named 'face_recognition'"
     ]
    }
   ],
   "source": [
    "%run app.py"
   ]
  },
  {
   "cell_type": "code",
   "execution_count": null,
   "id": "68703cc2-72fa-44e1-bebd-8d0f60b6f16a",
   "metadata": {},
   "outputs": [],
   "source": []
  }
 ],
 "metadata": {
  "kernelspec": {
   "display_name": "Python 3 (ipykernel)",
   "language": "python",
   "name": "python3"
  },
  "language_info": {
   "codemirror_mode": {
    "name": "ipython",
    "version": 3
   },
   "file_extension": ".py",
   "mimetype": "text/x-python",
   "name": "python",
   "nbconvert_exporter": "python",
   "pygments_lexer": "ipython3",
   "version": "3.12.4"
  }
 },
 "nbformat": 4,
 "nbformat_minor": 5
}
